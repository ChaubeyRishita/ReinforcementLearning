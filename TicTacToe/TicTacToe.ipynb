{
  "nbformat": 4,
  "nbformat_minor": 0,
  "metadata": {
    "colab": {
      "provenance": []
    },
    "kernelspec": {
      "name": "python3",
      "display_name": "Python 3"
    },
    "language_info": {
      "name": "python"
    }
  },
  "cells": [
    {
      "cell_type": "markdown",
      "source": [
        "Set up environment"
      ],
      "metadata": {
        "id": "qufd-Zkgl0bk"
      }
    },
    {
      "cell_type": "code",
      "execution_count": 1,
      "metadata": {
        "id": "fyNQhJaDlQ3_"
      },
      "outputs": [],
      "source": [
        "# We will represent the board as a 3x3 list of lists.\n",
        "# 0: Empty, 1: Player X, 2: Player O\n",
        "\n",
        "board = [[0, 0, 0], [0, 0, 0], [0, 0, 0]]\n",
        "current_player = 1 # 1 for X, 2 for O"
      ]
    },
    {
      "cell_type": "code",
      "source": [
        "def display_board(board):\n",
        "    \"\"\"\n",
        "    Prints the current state of the board.\n",
        "    \"\"\"\n",
        "    symbols = {0: ' ', 1: 'X', 2: 'O'}\n",
        "    for row in board:\n",
        "        print('|'.join([symbols[cell] for cell in row]))\n",
        "        print('-' * 5)"
      ],
      "metadata": {
        "id": "-AlWZp_xl9uX"
      },
      "execution_count": 2,
      "outputs": []
    },
    {
      "cell_type": "code",
      "source": [
        "def check_win(board):\n",
        "    \"\"\"\n",
        "    Checks if there is a winner. Returns 1 for player X, 2 for player O,\n",
        "    or 0 if no one has won yet.\n",
        "    \"\"\"\n",
        "    # Check rows, columns, and diagonals for a win\n",
        "    for i in range(3):\n",
        "        if board[i][0] == board[i][1] == board[i][2] != 0:\n",
        "            return board[i][0]\n",
        "        if board[0][i] == board[1][i] == board[2][i] != 0:\n",
        "            return board[0][i]\n",
        "    if board[0][0] == board[1][1] == board[2][2] != 0:\n",
        "        return board[0][0]\n",
        "    if board[0][2] == board[1][1] == board[2][0] != 0:\n",
        "        return board[0][2]\n",
        "    return 0"
      ],
      "metadata": {
        "id": "HDpjBUz7mGaE"
      },
      "execution_count": 3,
      "outputs": []
    },
    {
      "cell_type": "code",
      "source": [
        "def get_possible_moves(board):\n",
        "    \"\"\"\n",
        "    Returns a list of empty cells (row, col).\n",
        "    \"\"\"\n",
        "    moves = []\n",
        "    for r in range(3):\n",
        "        for c in range(3):\n",
        "            if board[r][c] == 0:\n",
        "                moves.append((r, c))\n",
        "    return moves"
      ],
      "metadata": {
        "id": "fqkZ8LFwmJKr"
      },
      "execution_count": 4,
      "outputs": []
    },
    {
      "cell_type": "code",
      "source": [
        "def is_game_over(board):\n",
        "    \"\"\"\n",
        "    Returns True if the game is over (win or draw), False otherwise.\n",
        "    \"\"\"\n",
        "    if check_win(board) != 0:\n",
        "        return True\n",
        "    if not get_possible_moves(board):\n",
        "        return True\n",
        "    return False"
      ],
      "metadata": {
        "id": "riTFkqMkmMjJ"
      },
      "execution_count": 5,
      "outputs": []
    },
    {
      "cell_type": "markdown",
      "source": [
        "Define an agent"
      ],
      "metadata": {
        "id": "7arySOXamRMC"
      }
    },
    {
      "cell_type": "code",
      "source": [
        "import random\n",
        "\n",
        "class TTT_Agent:\n",
        "    def __init__(self, player_num=1, exploration_rate=0.2):\n",
        "        self.player_num = player_num\n",
        "        self.q_table = {}\n",
        "        self.exploration_rate = exploration_rate\n",
        "        self.history = [] # Stores (state, action) pairs\n",
        "\n",
        "    def get_state_key(self, board):\n",
        "        return tuple(tuple(row) for row in board)\n",
        "\n",
        "    def choose_action(self, board):\n",
        "        state_key = self.get_state_key(board)\n",
        "        possible_moves = get_possible_moves(board)\n",
        "\n",
        "        # Initialize Q-values for new states\n",
        "        if state_key not in self.q_table:\n",
        "            self.q_table[state_key] = {move: 0 for move in possible_moves}\n",
        "\n",
        "        # Epsilon-greedy strategy\n",
        "        if random.uniform(0, 1) < self.exploration_rate:\n",
        "            move = random.choice(possible_moves)\n",
        "        else:\n",
        "            # Exploitation: find the best move\n",
        "            q_values = self.q_table[state_key]\n",
        "            max_q = max(q_values.values())\n",
        "\n",
        "            # Handle multiple best moves\n",
        "            best_moves = [move for move, q_val in q_values.items() if q_val == max_q]\n",
        "            move = random.choice(best_moves)\n",
        "\n",
        "        # Record state and action for later reward update\n",
        "        self.history.append((state_key, move))\n",
        "        return move\n",
        "\n",
        "    def update_q_values(self, reward):\n",
        "        # Update rewards at the end of the game\n",
        "        for state_key, move in self.history:\n",
        "            self.q_table[state_key][move] = reward\n",
        "\n",
        "        self.history = []"
      ],
      "metadata": {
        "id": "djzODQW0mO_3"
      },
      "execution_count": 10,
      "outputs": []
    },
    {
      "cell_type": "markdown",
      "source": [
        "Train the agent"
      ],
      "metadata": {
        "id": "YroG1Zlbmakq"
      }
    },
    {
      "cell_type": "code",
      "source": [
        "def play_game_against_self(agent1, agent2):\n",
        "    board = [[0, 0, 0], [0, 0, 0], [0, 0, 0]]\n",
        "    current_player = 1\n",
        "\n",
        "    while True:\n",
        "        if current_player == 1:\n",
        "            agent = agent1\n",
        "        else:\n",
        "            agent = agent2\n",
        "\n",
        "        move = agent.choose_action(board)\n",
        "        row, col = move\n",
        "        board[row][col] = current_player\n",
        "\n",
        "        winner = check_win(board)\n",
        "        if winner != 0:\n",
        "            if winner == agent1.player_num:\n",
        "                return 1 # Agent 1 wins\n",
        "            else:\n",
        "                return -1 # Agent 2 wins\n",
        "\n",
        "        if not get_possible_moves(board):\n",
        "            return 0 # Draw\n",
        "\n",
        "        current_player = 3 - current_player"
      ],
      "metadata": {
        "id": "807WRWcBmYKf"
      },
      "execution_count": 15,
      "outputs": []
    },
    {
      "cell_type": "code",
      "source": [
        "agent_x = TTT_Agent(player_num=1)\n",
        "agent_o = TTT_Agent(player_num=2)\n",
        "\n",
        "num_games = 60000 # Play a large number of games to train the agent"
      ],
      "metadata": {
        "id": "USmarBINmkpt"
      },
      "execution_count": 16,
      "outputs": []
    },
    {
      "cell_type": "code",
      "source": [
        "print(\"Training the agent...\")\n",
        "for i in range(num_games):\n",
        "    winner = play_game_against_self(agent_x, agent_o)\n",
        "\n",
        "    # Update rewards for both agents\n",
        "    if winner == 1:\n",
        "        agent_x.update_q_values(1)\n",
        "        agent_o.update_q_values(-1)\n",
        "    elif winner == -1:\n",
        "        agent_x.update_q_values(-1)\n",
        "        agent_o.update_q_values(1)\n",
        "    else:\n",
        "        agent_x.update_q_values(0.1)\n",
        "        agent_o.update_q_values(0.1)\n",
        "\n",
        "    # Gradually decrease exploration rate\n",
        "    if i % 1000 == 0:\n",
        "        agent_x.exploration_rate *= 0.99\n",
        "        agent_o.exploration_rate *= 0.99\n",
        "\n",
        "print(\"Training complete!\")"
      ],
      "metadata": {
        "colab": {
          "base_uri": "https://localhost:8080/"
        },
        "id": "wJCv4Y6SmpDM",
        "outputId": "9b7aaa79-9f1b-4c0c-8d7b-b66a8b55f4f7"
      },
      "execution_count": 17,
      "outputs": [
        {
          "output_type": "stream",
          "name": "stdout",
          "text": [
            "Training the agent...\n",
            "Training complete!\n"
          ]
        }
      ]
    },
    {
      "cell_type": "markdown",
      "source": [
        "To test, play against the agent"
      ],
      "metadata": {
        "id": "oqK59C4Lnb2A"
      }
    },
    {
      "cell_type": "code",
      "source": [
        "def play_against_human(agent):\n",
        "    \"\"\"\n",
        "    Allows a human to play against the trained agent.\n",
        "    \"\"\"\n",
        "    board = [[0, 0, 0], [0, 0, 0], [0, 0, 0]]\n",
        "    current_player = 1 # Human is always X\n",
        "\n",
        "    while True:\n",
        "        display_board(board)\n",
        "\n",
        "        if current_player == 1:\n",
        "            # Human's turn\n",
        "            try:\n",
        "                row = int(input(\"Enter row (0, 1, or 2): \"))\n",
        "                col = int(input(\"Enter column (0, 1, or 2): \"))\n",
        "\n",
        "                if board[row][col] != 0:\n",
        "                    print(\"This spot is taken. Try again.\")\n",
        "                    continue\n",
        "\n",
        "                board[row][col] = 1\n",
        "            except (ValueError, IndexError):\n",
        "                print(\"Invalid input. Please enter numbers 0-2.\")\n",
        "                continue\n",
        "        else:\n",
        "            # Agent's turn\n",
        "            print(\"Agent is thinking...\")\n",
        "            move = agent.choose_action(board)\n",
        "            row, col = move\n",
        "            board[row][col] = 2 # Agent is always O\n",
        "            print(f\"Agent places O at ({row}, {col})\")\n",
        "\n",
        "        winner = check_win(board)\n",
        "        if winner != 0:\n",
        "            display_board(board)\n",
        "            if winner == 1:\n",
        "                print(\"You win!\")\n",
        "            else:\n",
        "                print(\"Agent wins!\")\n",
        "            break\n",
        "\n",
        "        if not get_possible_moves(board):\n",
        "            display_board(board)\n",
        "            print(\"It's a draw!\")\n",
        "            break\n",
        "\n",
        "        current_player = 3 - current_player\n",
        "\n",
        "# Start a game against the trained agent\n",
        "play_against_human(agent_o) # The agent we trained as 'O'"
      ],
      "metadata": {
        "colab": {
          "base_uri": "https://localhost:8080/"
        },
        "id": "LXipVtjvmtHc",
        "outputId": "539e004f-d738-4ee4-acdf-b22ad67df76d"
      },
      "execution_count": 18,
      "outputs": [
        {
          "output_type": "stream",
          "name": "stdout",
          "text": [
            " | | \n",
            "-----\n",
            " | | \n",
            "-----\n",
            " | | \n",
            "-----\n",
            "Enter row (0, 1, or 2): 1\n",
            "Enter column (0, 1, or 2): 1\n",
            " | | \n",
            "-----\n",
            " |X| \n",
            "-----\n",
            " | | \n",
            "-----\n",
            "Agent is thinking...\n",
            "Agent places O at (2, 0)\n",
            " | | \n",
            "-----\n",
            " |X| \n",
            "-----\n",
            "O| | \n",
            "-----\n",
            "Enter row (0, 1, or 2): 0\n",
            "Enter column (0, 1, or 2): 0\n",
            "X| | \n",
            "-----\n",
            " |X| \n",
            "-----\n",
            "O| | \n",
            "-----\n",
            "Agent is thinking...\n",
            "Agent places O at (0, 2)\n",
            "X| |O\n",
            "-----\n",
            " |X| \n",
            "-----\n",
            "O| | \n",
            "-----\n",
            "Enter row (0, 1, or 2): 2\n",
            "Enter column (0, 1, or 2): 1\n",
            "X| |O\n",
            "-----\n",
            " |X| \n",
            "-----\n",
            "O|X| \n",
            "-----\n",
            "Agent is thinking...\n",
            "Agent places O at (1, 0)\n",
            "X| |O\n",
            "-----\n",
            "O|X| \n",
            "-----\n",
            "O|X| \n",
            "-----\n",
            "Enter row (0, 1, or 2): 2\n",
            "Enter column (0, 1, or 2): 2\n",
            "X| |O\n",
            "-----\n",
            "O|X| \n",
            "-----\n",
            "O|X|X\n",
            "-----\n",
            "You win!\n"
          ]
        }
      ]
    },
    {
      "cell_type": "code",
      "source": [],
      "metadata": {
        "id": "otSR_lq0nlF-"
      },
      "execution_count": null,
      "outputs": []
    }
  ]
}